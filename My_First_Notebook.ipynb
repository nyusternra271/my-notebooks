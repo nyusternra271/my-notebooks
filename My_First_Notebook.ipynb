{
  "nbformat": 4,
  "nbformat_minor": 0,
  "metadata": {
    "colab": {
      "name": "My First Notebook",
      "provenance": [],
      "authorship_tag": "ABX9TyPfIIyyc1b8yUno8ieyRkZd",
      "include_colab_link": true
    },
    "kernelspec": {
      "name": "python3",
      "display_name": "Python 3"
    },
    "language_info": {
      "name": "python"
    }
  },
  "cells": [
    {
      "cell_type": "markdown",
      "metadata": {
        "id": "view-in-github",
        "colab_type": "text"
      },
      "source": [
        "<a href=\"https://colab.research.google.com/github/nyusternra271/my-notebooks/blob/main/My_First_Notebook.ipynb\" target=\"_parent\"><img src=\"https://colab.research.google.com/assets/colab-badge.svg\" alt=\"Open In Colab\"/></a>"
      ]
    },
    {
      "cell_type": "code",
      "source": [
        "# This is some example Python code\n",
        "# These lines starting with \"#\" are \"comments\"\n",
        "# Remember \"#\" means something different in Markdown than it does in Python\n",
        "\n",
        "print(\"HELLO WORLD!\")\n",
        "\n",
        "x = 2 + 2\n",
        "print(x)"
      ],
      "metadata": {
        "colab": {
          "base_uri": "https://localhost:8080/"
        },
        "id": "C3cubnsswfQv",
        "outputId": "5af37b1a-c9bc-48ce-cf81-ec6829e0ff7f"
      },
      "execution_count": 5,
      "outputs": [
        {
          "output_type": "stream",
          "name": "stdout",
          "text": [
            "HELLO WORLD!\n",
            "4\n"
          ]
        }
      ]
    },
    {
      "cell_type": "markdown",
      "source": [
        "# My First Markdown!\n",
        "*this is something interesting*\n",
        "\n",
        "**so is this**\n",
        "\n",
        "***so is this***\n",
        "\n",
        "##here's my bulleted list##\n",
        "+ Item 1\n",
        "+ Item 2\n",
        "+ Item 3\n",
        "\n",
        "##here's my numbered list##\n",
        "1. Item 1\n",
        "2. Item 2\n",
        "3. Item 3\n",
        "\n",
        "this is a link: [NYU Stern](https://www.stern.nyu.edu)\n",
        "\n",
        "this is a code block:\n",
        "\n",
        "```\n",
        "print( \"Hello World\")\n",
        "\n",
        "```\n"
      ],
      "metadata": {
        "id": "8L2IpklTwfei"
      }
    }
  ]
}